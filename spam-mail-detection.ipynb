{
 "cells": [
  {
   "cell_type": "code",
   "execution_count": 1,
   "id": "ce55b1e7",
   "metadata": {
    "_cell_guid": "b1076dfc-b9ad-4769-8c92-a6c4dae69d19",
    "_uuid": "8f2839f25d086af736a60e9eeb907d3b93b6e0e5",
    "execution": {
     "iopub.execute_input": "2023-03-28T12:46:05.332552Z",
     "iopub.status.busy": "2023-03-28T12:46:05.331994Z",
     "iopub.status.idle": "2023-03-28T12:46:05.350486Z",
     "shell.execute_reply": "2023-03-28T12:46:05.349581Z"
    },
    "papermill": {
     "duration": 0.032443,
     "end_time": "2023-03-28T12:46:05.353249",
     "exception": false,
     "start_time": "2023-03-28T12:46:05.320806",
     "status": "completed"
    },
    "tags": []
   },
   "outputs": [
    {
     "name": "stdout",
     "output_type": "stream",
     "text": [
      "/kaggle/input/email-spam-detection-sentiment-analysis/emails.csv\n"
     ]
    }
   ],
   "source": [
    "# This Python 3 environment comes with many helpful analytics libraries installed\n",
    "# It is defined by the kaggle/python Docker image: https://github.com/kaggle/docker-python\n",
    "# For example, here's several helpful packages to load\n",
    "\n",
    "import numpy as np # linear algebra\n",
    "import pandas as pd # data processing, CSV file I/O (e.g. pd.read_csv)\n",
    "\n",
    "# Input data files are available in the read-only \"../input/\" directory\n",
    "# For example, running this (by clicking run or pressing Shift+Enter) will list all files under the input directory\n",
    "\n",
    "import os\n",
    "for dirname, _, filenames in os.walk('/kaggle/input'):\n",
    "    for filename in filenames:\n",
    "        print(os.path.join(dirname, filename))\n",
    "\n",
    "# You can write up to 20GB to the current directory (/kaggle/working/) that gets preserved as output when you create a version using \"Save & Run All\" \n",
    "# You can also write temporary files to /kaggle/temp/, but they won't be saved outside of the current session"
   ]
  },
  {
   "cell_type": "code",
   "execution_count": 2,
   "id": "0e4af7e9",
   "metadata": {
    "execution": {
     "iopub.execute_input": "2023-03-28T12:46:05.371645Z",
     "iopub.status.busy": "2023-03-28T12:46:05.370862Z",
     "iopub.status.idle": "2023-03-28T12:46:06.579089Z",
     "shell.execute_reply": "2023-03-28T12:46:06.577609Z"
    },
    "papermill": {
     "duration": 1.220377,
     "end_time": "2023-03-28T12:46:06.581832",
     "exception": false,
     "start_time": "2023-03-28T12:46:05.361455",
     "status": "completed"
    },
    "tags": []
   },
   "outputs": [
    {
     "name": "stdout",
     "output_type": "stream",
     "text": [
      "setup complete\n"
     ]
    }
   ],
   "source": [
    "import pandas as pd\n",
    "import numpy as np\n",
    "import seaborn as sns\n",
    "import matplotlib.pyplot as plt\n",
    "import sklearn.metrics\n",
    "import warnings\n",
    "warnings.filterwarnings('ignore')\n",
    "print(\"setup complete\")"
   ]
  },
  {
   "cell_type": "code",
   "execution_count": 3,
   "id": "b3992948",
   "metadata": {
    "execution": {
     "iopub.execute_input": "2023-03-28T12:46:06.600862Z",
     "iopub.status.busy": "2023-03-28T12:46:06.599440Z",
     "iopub.status.idle": "2023-03-28T12:46:06.792832Z",
     "shell.execute_reply": "2023-03-28T12:46:06.791698Z"
    },
    "papermill": {
     "duration": 0.205725,
     "end_time": "2023-03-28T12:46:06.795728",
     "exception": false,
     "start_time": "2023-03-28T12:46:06.590003",
     "status": "completed"
    },
    "tags": []
   },
   "outputs": [],
   "source": [
    "df = pd.read_csv('/kaggle/input/email-spam-detection-sentiment-analysis/emails.csv')"
   ]
  },
  {
   "cell_type": "code",
   "execution_count": 4,
   "id": "db2ae61f",
   "metadata": {
    "execution": {
     "iopub.execute_input": "2023-03-28T12:46:06.814091Z",
     "iopub.status.busy": "2023-03-28T12:46:06.813114Z",
     "iopub.status.idle": "2023-03-28T12:46:06.838856Z",
     "shell.execute_reply": "2023-03-28T12:46:06.837552Z"
    },
    "papermill": {
     "duration": 0.037463,
     "end_time": "2023-03-28T12:46:06.841389",
     "exception": false,
     "start_time": "2023-03-28T12:46:06.803926",
     "status": "completed"
    },
    "tags": []
   },
   "outputs": [
    {
     "data": {
      "text/html": [
       "<div>\n",
       "<style scoped>\n",
       "    .dataframe tbody tr th:only-of-type {\n",
       "        vertical-align: middle;\n",
       "    }\n",
       "\n",
       "    .dataframe tbody tr th {\n",
       "        vertical-align: top;\n",
       "    }\n",
       "\n",
       "    .dataframe thead th {\n",
       "        text-align: right;\n",
       "    }\n",
       "</style>\n",
       "<table border=\"1\" class=\"dataframe\">\n",
       "  <thead>\n",
       "    <tr style=\"text-align: right;\">\n",
       "      <th></th>\n",
       "      <th>text</th>\n",
       "      <th>spam</th>\n",
       "    </tr>\n",
       "  </thead>\n",
       "  <tbody>\n",
       "    <tr>\n",
       "      <th>0</th>\n",
       "      <td>Subject: naturally irresistible your corporate...</td>\n",
       "      <td>1</td>\n",
       "    </tr>\n",
       "    <tr>\n",
       "      <th>1</th>\n",
       "      <td>Subject: the stock trading gunslinger  fanny i...</td>\n",
       "      <td>1</td>\n",
       "    </tr>\n",
       "    <tr>\n",
       "      <th>2</th>\n",
       "      <td>Subject: unbelievable new homes made easy  im ...</td>\n",
       "      <td>1</td>\n",
       "    </tr>\n",
       "    <tr>\n",
       "      <th>3</th>\n",
       "      <td>Subject: 4 color printing special  request add...</td>\n",
       "      <td>1</td>\n",
       "    </tr>\n",
       "    <tr>\n",
       "      <th>4</th>\n",
       "      <td>Subject: do not have money , get software cds ...</td>\n",
       "      <td>1</td>\n",
       "    </tr>\n",
       "  </tbody>\n",
       "</table>\n",
       "</div>"
      ],
      "text/plain": [
       "                                                text  spam\n",
       "0  Subject: naturally irresistible your corporate...     1\n",
       "1  Subject: the stock trading gunslinger  fanny i...     1\n",
       "2  Subject: unbelievable new homes made easy  im ...     1\n",
       "3  Subject: 4 color printing special  request add...     1\n",
       "4  Subject: do not have money , get software cds ...     1"
      ]
     },
     "execution_count": 4,
     "metadata": {},
     "output_type": "execute_result"
    }
   ],
   "source": [
    "df.head()"
   ]
  },
  {
   "cell_type": "code",
   "execution_count": 5,
   "id": "b62e3d0b",
   "metadata": {
    "execution": {
     "iopub.execute_input": "2023-03-28T12:46:06.860312Z",
     "iopub.status.busy": "2023-03-28T12:46:06.859592Z",
     "iopub.status.idle": "2023-03-28T12:46:06.866680Z",
     "shell.execute_reply": "2023-03-28T12:46:06.865716Z"
    },
    "papermill": {
     "duration": 0.019432,
     "end_time": "2023-03-28T12:46:06.869263",
     "exception": false,
     "start_time": "2023-03-28T12:46:06.849831",
     "status": "completed"
    },
    "tags": []
   },
   "outputs": [
    {
     "data": {
      "text/plain": [
       "(5728, 2)"
      ]
     },
     "execution_count": 5,
     "metadata": {},
     "output_type": "execute_result"
    }
   ],
   "source": [
    "df.shape"
   ]
  },
  {
   "cell_type": "code",
   "execution_count": 6,
   "id": "426b6539",
   "metadata": {
    "execution": {
     "iopub.execute_input": "2023-03-28T12:46:06.887440Z",
     "iopub.status.busy": "2023-03-28T12:46:06.887072Z",
     "iopub.status.idle": "2023-03-28T12:46:06.900123Z",
     "shell.execute_reply": "2023-03-28T12:46:06.898879Z"
    },
    "papermill": {
     "duration": 0.024921,
     "end_time": "2023-03-28T12:46:06.902431",
     "exception": false,
     "start_time": "2023-03-28T12:46:06.877510",
     "status": "completed"
    },
    "tags": []
   },
   "outputs": [
    {
     "data": {
      "text/plain": [
       "0    4360\n",
       "1    1368\n",
       "Name: spam, dtype: int64"
      ]
     },
     "execution_count": 6,
     "metadata": {},
     "output_type": "execute_result"
    }
   ],
   "source": [
    "df.spam.value_counts()"
   ]
  },
  {
   "cell_type": "code",
   "execution_count": 7,
   "id": "48f34434",
   "metadata": {
    "execution": {
     "iopub.execute_input": "2023-03-28T12:46:06.921339Z",
     "iopub.status.busy": "2023-03-28T12:46:06.920777Z",
     "iopub.status.idle": "2023-03-28T12:46:06.927416Z",
     "shell.execute_reply": "2023-03-28T12:46:06.926573Z"
    },
    "papermill": {
     "duration": 0.018898,
     "end_time": "2023-03-28T12:46:06.929795",
     "exception": false,
     "start_time": "2023-03-28T12:46:06.910897",
     "status": "completed"
    },
    "tags": []
   },
   "outputs": [
    {
     "data": {
      "text/plain": [
       "\"Subject: naturally irresistible your corporate identity  lt is really hard to recollect a company : the  market is full of suqgestions and the information isoverwhelminq ; but a good  catchy logo , stylish statlonery and outstanding website  will make the task much easier .  we do not promise that havinq ordered a iogo your  company will automaticaily become a world ieader : it isguite ciear that  without good products , effective business organization and practicable aim it  will be hotat nowadays market ; but we do promise that your marketing efforts  will become much more effective . here is the list of clear  benefits : creativeness : hand - made , original logos , specially done  to reflect your distinctive company image . convenience : logo and stationery  are provided in all formats ; easy - to - use content management system letsyou  change your website content and even its structure . promptness : you  will see logo drafts within three business days . affordability : your  marketing break - through shouldn ' t make gaps in your budget . 100 % satisfaction  guaranteed : we provide unlimited amount of changes with no extra fees for you to  be surethat you will love the result of this collaboration . have a look at our  portfolio _ _ _ _ _ _ _ _ _ _ _ _ _ _ _ _ _ _ _ _ _ _ _ _ _ _ _ _ _ _ _ _ _ _ _ _ _ _ _ _ _ _ _ _ _ _ _ _ _ _ _ _ not interested . . . _ _ _ _ _ _ _ _ _ _ _ _ _ _ _ _ _ _ _ _ _ _ _ _ _ _ _ _ _ _ _ _ _ _ _ _ _ _ _ _ _ _ _ _ _ _ _ _ _ _ _ _\""
      ]
     },
     "execution_count": 7,
     "metadata": {},
     "output_type": "execute_result"
    }
   ],
   "source": [
    "df.iloc[0,0]"
   ]
  },
  {
   "cell_type": "code",
   "execution_count": 8,
   "id": "fbeea910",
   "metadata": {
    "execution": {
     "iopub.execute_input": "2023-03-28T12:46:06.949448Z",
     "iopub.status.busy": "2023-03-28T12:46:06.948746Z",
     "iopub.status.idle": "2023-03-28T12:46:06.957594Z",
     "shell.execute_reply": "2023-03-28T12:46:06.956778Z"
    },
    "papermill": {
     "duration": 0.020435,
     "end_time": "2023-03-28T12:46:06.959665",
     "exception": false,
     "start_time": "2023-03-28T12:46:06.939230",
     "status": "completed"
    },
    "tags": []
   },
   "outputs": [
    {
     "data": {
      "text/plain": [
       "text    0\n",
       "spam    0\n",
       "dtype: int64"
      ]
     },
     "execution_count": 8,
     "metadata": {},
     "output_type": "execute_result"
    }
   ],
   "source": [
    "df.isna().sum()"
   ]
  },
  {
   "cell_type": "code",
   "execution_count": 9,
   "id": "0cde2286",
   "metadata": {
    "execution": {
     "iopub.execute_input": "2023-03-28T12:46:06.978483Z",
     "iopub.status.busy": "2023-03-28T12:46:06.977787Z",
     "iopub.status.idle": "2023-03-28T12:46:07.010994Z",
     "shell.execute_reply": "2023-03-28T12:46:07.009873Z"
    },
    "papermill": {
     "duration": 0.04555,
     "end_time": "2023-03-28T12:46:07.013563",
     "exception": false,
     "start_time": "2023-03-28T12:46:06.968013",
     "status": "completed"
    },
    "tags": []
   },
   "outputs": [
    {
     "data": {
      "text/plain": [
       "33"
      ]
     },
     "execution_count": 9,
     "metadata": {},
     "output_type": "execute_result"
    }
   ],
   "source": [
    "df.duplicated().sum()"
   ]
  },
  {
   "cell_type": "code",
   "execution_count": 10,
   "id": "b458238e",
   "metadata": {
    "execution": {
     "iopub.execute_input": "2023-03-28T12:46:07.032921Z",
     "iopub.status.busy": "2023-03-28T12:46:07.032533Z",
     "iopub.status.idle": "2023-03-28T12:46:07.063411Z",
     "shell.execute_reply": "2023-03-28T12:46:07.062442Z"
    },
    "papermill": {
     "duration": 0.043654,
     "end_time": "2023-03-28T12:46:07.066063",
     "exception": false,
     "start_time": "2023-03-28T12:46:07.022409",
     "status": "completed"
    },
    "tags": []
   },
   "outputs": [],
   "source": [
    "df.drop_duplicates(inplace=True)"
   ]
  },
  {
   "cell_type": "code",
   "execution_count": 11,
   "id": "3e9606ef",
   "metadata": {
    "execution": {
     "iopub.execute_input": "2023-03-28T12:46:07.085812Z",
     "iopub.status.busy": "2023-03-28T12:46:07.085366Z",
     "iopub.status.idle": "2023-03-28T12:46:07.091460Z",
     "shell.execute_reply": "2023-03-28T12:46:07.090591Z"
    },
    "papermill": {
     "duration": 0.018786,
     "end_time": "2023-03-28T12:46:07.093720",
     "exception": false,
     "start_time": "2023-03-28T12:46:07.074934",
     "status": "completed"
    },
    "tags": []
   },
   "outputs": [],
   "source": [
    "df = df.rename(columns={'spam':'label'})"
   ]
  },
  {
   "cell_type": "code",
   "execution_count": 12,
   "id": "5a50b392",
   "metadata": {
    "execution": {
     "iopub.execute_input": "2023-03-28T12:46:07.113312Z",
     "iopub.status.busy": "2023-03-28T12:46:07.112606Z",
     "iopub.status.idle": "2023-03-28T12:46:07.141966Z",
     "shell.execute_reply": "2023-03-28T12:46:07.140691Z"
    },
    "papermill": {
     "duration": 0.041986,
     "end_time": "2023-03-28T12:46:07.144464",
     "exception": false,
     "start_time": "2023-03-28T12:46:07.102478",
     "status": "completed"
    },
    "tags": []
   },
   "outputs": [
    {
     "data": {
      "text/html": [
       "<div>\n",
       "<style scoped>\n",
       "    .dataframe tbody tr th:only-of-type {\n",
       "        vertical-align: middle;\n",
       "    }\n",
       "\n",
       "    .dataframe tbody tr th {\n",
       "        vertical-align: top;\n",
       "    }\n",
       "\n",
       "    .dataframe thead th {\n",
       "        text-align: right;\n",
       "    }\n",
       "</style>\n",
       "<table border=\"1\" class=\"dataframe\">\n",
       "  <thead>\n",
       "    <tr style=\"text-align: right;\">\n",
       "      <th></th>\n",
       "      <th>text</th>\n",
       "      <th>label</th>\n",
       "    </tr>\n",
       "  </thead>\n",
       "  <tbody>\n",
       "    <tr>\n",
       "      <th>count</th>\n",
       "      <td>5695</td>\n",
       "      <td>5695.000000</td>\n",
       "    </tr>\n",
       "    <tr>\n",
       "      <th>unique</th>\n",
       "      <td>5695</td>\n",
       "      <td>NaN</td>\n",
       "    </tr>\n",
       "    <tr>\n",
       "      <th>top</th>\n",
       "      <td>Subject: naturally irresistible your corporate...</td>\n",
       "      <td>NaN</td>\n",
       "    </tr>\n",
       "    <tr>\n",
       "      <th>freq</th>\n",
       "      <td>1</td>\n",
       "      <td>NaN</td>\n",
       "    </tr>\n",
       "    <tr>\n",
       "      <th>mean</th>\n",
       "      <td>NaN</td>\n",
       "      <td>0.240211</td>\n",
       "    </tr>\n",
       "    <tr>\n",
       "      <th>std</th>\n",
       "      <td>NaN</td>\n",
       "      <td>0.427249</td>\n",
       "    </tr>\n",
       "    <tr>\n",
       "      <th>min</th>\n",
       "      <td>NaN</td>\n",
       "      <td>0.000000</td>\n",
       "    </tr>\n",
       "    <tr>\n",
       "      <th>25%</th>\n",
       "      <td>NaN</td>\n",
       "      <td>0.000000</td>\n",
       "    </tr>\n",
       "    <tr>\n",
       "      <th>50%</th>\n",
       "      <td>NaN</td>\n",
       "      <td>0.000000</td>\n",
       "    </tr>\n",
       "    <tr>\n",
       "      <th>75%</th>\n",
       "      <td>NaN</td>\n",
       "      <td>0.000000</td>\n",
       "    </tr>\n",
       "    <tr>\n",
       "      <th>max</th>\n",
       "      <td>NaN</td>\n",
       "      <td>1.000000</td>\n",
       "    </tr>\n",
       "  </tbody>\n",
       "</table>\n",
       "</div>"
      ],
      "text/plain": [
       "                                                     text        label\n",
       "count                                                5695  5695.000000\n",
       "unique                                               5695          NaN\n",
       "top     Subject: naturally irresistible your corporate...          NaN\n",
       "freq                                                    1          NaN\n",
       "mean                                                  NaN     0.240211\n",
       "std                                                   NaN     0.427249\n",
       "min                                                   NaN     0.000000\n",
       "25%                                                   NaN     0.000000\n",
       "50%                                                   NaN     0.000000\n",
       "75%                                                   NaN     0.000000\n",
       "max                                                   NaN     1.000000"
      ]
     },
     "execution_count": 12,
     "metadata": {},
     "output_type": "execute_result"
    }
   ],
   "source": [
    "df.describe(include='all')"
   ]
  },
  {
   "cell_type": "code",
   "execution_count": 13,
   "id": "e4cf12be",
   "metadata": {
    "execution": {
     "iopub.execute_input": "2023-03-28T12:46:07.165210Z",
     "iopub.status.busy": "2023-03-28T12:46:07.164399Z",
     "iopub.status.idle": "2023-03-28T12:46:07.172885Z",
     "shell.execute_reply": "2023-03-28T12:46:07.171991Z"
    },
    "papermill": {
     "duration": 0.021744,
     "end_time": "2023-03-28T12:46:07.175206",
     "exception": false,
     "start_time": "2023-03-28T12:46:07.153462",
     "status": "completed"
    },
    "tags": []
   },
   "outputs": [],
   "source": [
    "df['length'] = df['text'].apply(len)"
   ]
  },
  {
   "cell_type": "code",
   "execution_count": 14,
   "id": "dcb19eee",
   "metadata": {
    "execution": {
     "iopub.execute_input": "2023-03-28T12:46:07.195161Z",
     "iopub.status.busy": "2023-03-28T12:46:07.194358Z",
     "iopub.status.idle": "2023-03-28T12:46:07.205114Z",
     "shell.execute_reply": "2023-03-28T12:46:07.204178Z"
    },
    "papermill": {
     "duration": 0.023314,
     "end_time": "2023-03-28T12:46:07.207393",
     "exception": false,
     "start_time": "2023-03-28T12:46:07.184079",
     "status": "completed"
    },
    "tags": []
   },
   "outputs": [
    {
     "data": {
      "text/html": [
       "<div>\n",
       "<style scoped>\n",
       "    .dataframe tbody tr th:only-of-type {\n",
       "        vertical-align: middle;\n",
       "    }\n",
       "\n",
       "    .dataframe tbody tr th {\n",
       "        vertical-align: top;\n",
       "    }\n",
       "\n",
       "    .dataframe thead th {\n",
       "        text-align: right;\n",
       "    }\n",
       "</style>\n",
       "<table border=\"1\" class=\"dataframe\">\n",
       "  <thead>\n",
       "    <tr style=\"text-align: right;\">\n",
       "      <th></th>\n",
       "      <th>text</th>\n",
       "      <th>label</th>\n",
       "      <th>length</th>\n",
       "    </tr>\n",
       "  </thead>\n",
       "  <tbody>\n",
       "    <tr>\n",
       "      <th>0</th>\n",
       "      <td>Subject: naturally irresistible your corporate...</td>\n",
       "      <td>1</td>\n",
       "      <td>1484</td>\n",
       "    </tr>\n",
       "    <tr>\n",
       "      <th>1</th>\n",
       "      <td>Subject: the stock trading gunslinger  fanny i...</td>\n",
       "      <td>1</td>\n",
       "      <td>598</td>\n",
       "    </tr>\n",
       "    <tr>\n",
       "      <th>2</th>\n",
       "      <td>Subject: unbelievable new homes made easy  im ...</td>\n",
       "      <td>1</td>\n",
       "      <td>448</td>\n",
       "    </tr>\n",
       "    <tr>\n",
       "      <th>3</th>\n",
       "      <td>Subject: 4 color printing special  request add...</td>\n",
       "      <td>1</td>\n",
       "      <td>500</td>\n",
       "    </tr>\n",
       "    <tr>\n",
       "      <th>4</th>\n",
       "      <td>Subject: do not have money , get software cds ...</td>\n",
       "      <td>1</td>\n",
       "      <td>235</td>\n",
       "    </tr>\n",
       "  </tbody>\n",
       "</table>\n",
       "</div>"
      ],
      "text/plain": [
       "                                                text  label  length\n",
       "0  Subject: naturally irresistible your corporate...      1    1484\n",
       "1  Subject: the stock trading gunslinger  fanny i...      1     598\n",
       "2  Subject: unbelievable new homes made easy  im ...      1     448\n",
       "3  Subject: 4 color printing special  request add...      1     500\n",
       "4  Subject: do not have money , get software cds ...      1     235"
      ]
     },
     "execution_count": 14,
     "metadata": {},
     "output_type": "execute_result"
    }
   ],
   "source": [
    "df.head()"
   ]
  },
  {
   "cell_type": "code",
   "execution_count": 15,
   "id": "b07d638a",
   "metadata": {
    "execution": {
     "iopub.execute_input": "2023-03-28T12:46:07.228228Z",
     "iopub.status.busy": "2023-03-28T12:46:07.227441Z",
     "iopub.status.idle": "2023-03-28T12:46:07.464887Z",
     "shell.execute_reply": "2023-03-28T12:46:07.463596Z"
    },
    "papermill": {
     "duration": 0.251054,
     "end_time": "2023-03-28T12:46:07.467557",
     "exception": false,
     "start_time": "2023-03-28T12:46:07.216503",
     "status": "completed"
    },
    "tags": []
   },
   "outputs": [
    {
     "data": {
      "text/plain": [
       "<AxesSubplot:>"
      ]
     },
     "execution_count": 15,
     "metadata": {},
     "output_type": "execute_result"
    },
    {
     "data": {
      "image/png": "[encoded data removed]",
      "text/plain": [
       "<Figure size 640x480 with 1 Axes>"
      ]
     },
     "metadata": {},
     "output_type": "display_data"
    }
   ],
   "source": [
    "df['label'].value_counts().head(10).plot(kind='bar')"
   ]
  },
  {
   "cell_type": "code",
   "execution_count": null,
   "id": "7b3cc2a3",
   "metadata": {
    "papermill": {
     "duration": 0.009203,
     "end_time": "2023-03-28T12:46:07.486382",
     "exception": false,
     "start_time": "2023-03-28T12:46:07.477179",
     "status": "completed"
    },
    "tags": []
   },
   "outputs": [],
   "source": []
  },
  {
   "cell_type": "code",
   "execution_count": 16,
   "id": "bc02dd4c",
   "metadata": {
    "execution": {
     "iopub.execute_input": "2023-03-28T12:46:07.507279Z",
     "iopub.status.busy": "2023-03-28T12:46:07.506439Z",
     "iopub.status.idle": "2023-03-28T12:46:07.788681Z",
     "shell.execute_reply": "2023-03-28T12:46:07.787643Z"
    },
    "papermill": {
     "duration": 0.295883,
     "end_time": "2023-03-28T12:46:07.791484",
     "exception": false,
     "start_time": "2023-03-28T12:46:07.495601",
     "status": "completed"
    },
    "tags": []
   },
   "outputs": [
    {
     "data": {
      "text/plain": [
       "<AxesSubplot:ylabel='Frequency'>"
      ]
     },
     "execution_count": 16,
     "metadata": {},
     "output_type": "execute_result"
    },
    {
     "data": {
      "image/png": "[encoded data removed]",
      "text/plain": [
       "<Figure size 640x480 with 1 Axes>"
      ]
     },
     "metadata": {},
     "output_type": "display_data"
    }
   ],
   "source": [
    "df['length'].plot(kind='hist',bins=50)"
   ]
  },
  {
   "cell_type": "code",
   "execution_count": 17,
   "id": "f5464b5b",
   "metadata": {
    "execution": {
     "iopub.execute_input": "2023-03-28T12:46:07.813730Z",
     "iopub.status.busy": "2023-03-28T12:46:07.813028Z",
     "iopub.status.idle": "2023-03-28T12:46:08.972358Z",
     "shell.execute_reply": "2023-03-28T12:46:08.971008Z"
    },
    "papermill": {
     "duration": 1.174661,
     "end_time": "2023-03-28T12:46:08.976231",
     "exception": false,
     "start_time": "2023-03-28T12:46:07.801570",
     "status": "completed"
    },
    "tags": []
   },
   "outputs": [
    {
     "data": {
      "text/plain": [
       "(5695, 37303)"
      ]
     },
     "execution_count": 17,
     "metadata": {},
     "output_type": "execute_result"
    }
   ],
   "source": [
    "from sklearn.feature_extraction.text import CountVectorizer, TfidfTransformer\n",
    "from sklearn.model_selection import train_test_split\n",
    "count_vect = CountVectorizer()\n",
    "x_Count = count_vect.fit_transform(df.text)\n",
    "x_Count.shape"
   ]
  },
  {
   "cell_type": "code",
   "execution_count": 18,
   "id": "4241eeb1",
   "metadata": {
    "execution": {
     "iopub.execute_input": "2023-03-28T12:46:09.001160Z",
     "iopub.status.busy": "2023-03-28T12:46:09.000679Z",
     "iopub.status.idle": "2023-03-28T12:46:09.013101Z",
     "shell.execute_reply": "2023-03-28T12:46:09.011865Z"
    },
    "papermill": {
     "duration": 0.027203,
     "end_time": "2023-03-28T12:46:09.015995",
     "exception": false,
     "start_time": "2023-03-28T12:46:08.988792",
     "status": "completed"
    },
    "tags": []
   },
   "outputs": [],
   "source": [
    "x_train, x_test, y_train, y_test= train_test_split(x_Count,df['label'],test_size=0.2,random_state=1)"
   ]
  },
  {
   "cell_type": "code",
   "execution_count": 19,
   "id": "c9413526",
   "metadata": {
    "execution": {
     "iopub.execute_input": "2023-03-28T12:46:09.038698Z",
     "iopub.status.busy": "2023-03-28T12:46:09.038256Z",
     "iopub.status.idle": "2023-03-28T12:46:09.044268Z",
     "shell.execute_reply": "2023-03-28T12:46:09.042838Z"
    },
    "papermill": {
     "duration": 0.02169,
     "end_time": "2023-03-28T12:46:09.047982",
     "exception": false,
     "start_time": "2023-03-28T12:46:09.026292",
     "status": "completed"
    },
    "tags": []
   },
   "outputs": [
    {
     "name": "stdout",
     "output_type": "stream",
     "text": [
      "(4556, 37303)\n",
      "(1139, 37303)\n"
     ]
    }
   ],
   "source": [
    "print(x_train.shape)\n",
    "print(x_test.shape)"
   ]
  },
  {
   "cell_type": "code",
   "execution_count": 20,
   "id": "5a3f32b5",
   "metadata": {
    "execution": {
     "iopub.execute_input": "2023-03-28T12:46:09.072803Z",
     "iopub.status.busy": "2023-03-28T12:46:09.071992Z",
     "iopub.status.idle": "2023-03-28T12:46:09.102443Z",
     "shell.execute_reply": "2023-03-28T12:46:09.100920Z"
    },
    "papermill": {
     "duration": 0.045313,
     "end_time": "2023-03-28T12:46:09.105504",
     "exception": false,
     "start_time": "2023-03-28T12:46:09.060191",
     "status": "completed"
    },
    "tags": []
   },
   "outputs": [],
   "source": [
    "from sklearn.metrics import accuracy_score, precision_score, recall_score, f1_score\n",
    "from sklearn.naive_bayes import MultinomialNB\n",
    "from sklearn.neural_network import MLPClassifier"
   ]
  },
  {
   "cell_type": "code",
   "execution_count": 21,
   "id": "044d50e0",
   "metadata": {
    "execution": {
     "iopub.execute_input": "2023-03-28T12:46:09.127434Z",
     "iopub.status.busy": "2023-03-28T12:46:09.126991Z",
     "iopub.status.idle": "2023-03-28T12:46:09.139491Z",
     "shell.execute_reply": "2023-03-28T12:46:09.138490Z"
    },
    "papermill": {
     "duration": 0.026241,
     "end_time": "2023-03-28T12:46:09.141934",
     "exception": false,
     "start_time": "2023-03-28T12:46:09.115693",
     "status": "completed"
    },
    "tags": []
   },
   "outputs": [],
   "source": [
    "from sklearn.pipeline import Pipeline\n",
    "text_clf = Pipeline([\n",
    "     ('tfidf', TfidfTransformer()),\n",
    "     ('clf', MultinomialNB()),\n",
    "])"
   ]
  },
  {
   "cell_type": "code",
   "execution_count": 22,
   "id": "e3d0c93c",
   "metadata": {
    "execution": {
     "iopub.execute_input": "2023-03-28T12:46:09.163849Z",
     "iopub.status.busy": "2023-03-28T12:46:09.163446Z",
     "iopub.status.idle": "2023-03-28T12:46:09.257429Z",
     "shell.execute_reply": "2023-03-28T12:46:09.256253Z"
    },
    "papermill": {
     "duration": 0.107796,
     "end_time": "2023-03-28T12:46:09.259936",
     "exception": false,
     "start_time": "2023-03-28T12:46:09.152140",
     "status": "completed"
    },
    "tags": []
   },
   "outputs": [
    {
     "data": {
      "text/plain": [
       "Pipeline(steps=[('tfidf', TfidfTransformer()), ('clf', MultinomialNB())])"
      ]
     },
     "execution_count": 22,
     "metadata": {},
     "output_type": "execute_result"
    }
   ],
   "source": [
    "text_clf.fit(x_train,y_train)"
   ]
  },
  {
   "cell_type": "code",
   "execution_count": 23,
   "id": "6705d7a4",
   "metadata": {
    "execution": {
     "iopub.execute_input": "2023-03-28T12:46:09.282239Z",
     "iopub.status.busy": "2023-03-28T12:46:09.281839Z",
     "iopub.status.idle": "2023-03-28T12:46:09.299694Z",
     "shell.execute_reply": "2023-03-28T12:46:09.297985Z"
    },
    "papermill": {
     "duration": 0.032024,
     "end_time": "2023-03-28T12:46:09.302142",
     "exception": false,
     "start_time": "2023-03-28T12:46:09.270118",
     "status": "completed"
    },
    "tags": []
   },
   "outputs": [
    {
     "name": "stdout",
     "output_type": "stream",
     "text": [
      "[0 0 0 ... 1 1 0]\n"
     ]
    }
   ],
   "source": [
    "mt = MultinomialNB()\n",
    "mt.fit(x_train,y_train)\n",
    "mt_pred = mt.predict(x_test)\n",
    "print(mt_pred)"
   ]
  },
  {
   "cell_type": "code",
   "execution_count": 24,
   "id": "5c02d3bf",
   "metadata": {
    "execution": {
     "iopub.execute_input": "2023-03-28T12:46:09.324615Z",
     "iopub.status.busy": "2023-03-28T12:46:09.323908Z",
     "iopub.status.idle": "2023-03-28T12:46:09.336697Z",
     "shell.execute_reply": "2023-03-28T12:46:09.334849Z"
    },
    "papermill": {
     "duration": 0.027459,
     "end_time": "2023-03-28T12:46:09.339747",
     "exception": false,
     "start_time": "2023-03-28T12:46:09.312288",
     "status": "completed"
    },
    "tags": []
   },
   "outputs": [
    {
     "name": "stdout",
     "output_type": "stream",
     "text": [
      "MultinomialNB\n",
      "Accuracy score: 0.9894644424934153\n",
      "Precision score: 0.9711191335740073\n",
      "Recall score: 0.9853479853479854\n",
      "F1 score: 0.9781818181818183\n"
     ]
    }
   ],
   "source": [
    "print(\"MultinomialNB\")\n",
    "print(\"Accuracy score: {}\". format(accuracy_score(y_test, mt_pred)) )\n",
    "print(\"Precision score: {}\". format(precision_score(y_test, mt_pred)) )\n",
    "print(\"Recall score: {}\". format(recall_score(y_test, mt_pred)))\n",
    "print(\"F1 score: {}\". format(f1_score(y_test, mt_pred)))"
   ]
  },
  {
   "cell_type": "code",
   "execution_count": 25,
   "id": "a42a5788",
   "metadata": {
    "execution": {
     "iopub.execute_input": "2023-03-28T12:46:09.362375Z",
     "iopub.status.busy": "2023-03-28T12:46:09.361597Z",
     "iopub.status.idle": "2023-03-28T12:47:43.592321Z",
     "shell.execute_reply": "2023-03-28T12:47:43.590876Z"
    },
    "papermill": {
     "duration": 94.264151,
     "end_time": "2023-03-28T12:47:43.614340",
     "exception": false,
     "start_time": "2023-03-28T12:46:09.350189",
     "status": "completed"
    },
    "tags": []
   },
   "outputs": [
    {
     "name": "stdout",
     "output_type": "stream",
     "text": [
      "[0 0 0 ... 1 1 0]\n"
     ]
    }
   ],
   "source": [
    "from sklearn.neural_network import MLPClassifier\n",
    "mlcp = MLPClassifier()\n",
    "mlcp.fit(x_train,y_train)\n",
    "mlcp_pred = mlcp.predict(x_test)\n",
    "print(mlcp_pred)"
   ]
  },
  {
   "cell_type": "code",
   "execution_count": 26,
   "id": "d4f1fd76",
   "metadata": {
    "execution": {
     "iopub.execute_input": "2023-03-28T12:47:43.650371Z",
     "iopub.status.busy": "2023-03-28T12:47:43.649805Z",
     "iopub.status.idle": "2023-03-28T12:47:43.672381Z",
     "shell.execute_reply": "2023-03-28T12:47:43.671022Z"
    },
    "papermill": {
     "duration": 0.045049,
     "end_time": "2023-03-28T12:47:43.676365",
     "exception": false,
     "start_time": "2023-03-28T12:47:43.631316",
     "status": "completed"
    },
    "tags": []
   },
   "outputs": [
    {
     "name": "stdout",
     "output_type": "stream",
     "text": [
      "MLPClassifier\n",
      "Accuracy score: 0.9920983318700615\n",
      "Precision score: 0.9925373134328358\n",
      "Recall score: 0.9743589743589743\n",
      "F1 score: 0.9833641404805914\n"
     ]
    }
   ],
   "source": [
    "print(\"MLPClassifier\")\n",
    "print(\"Accuracy score: {}\". format(accuracy_score(y_test, mlcp_pred)) )\n",
    "print(\"Precision score: {}\". format(precision_score(y_test, mlcp_pred)) )\n",
    "print(\"Recall score: {}\". format(recall_score(y_test, mlcp_pred)))\n",
    "print(\"F1 score: {}\". format(f1_score(y_test, mlcp_pred)))"
   ]
  },
  {
   "cell_type": "code",
   "execution_count": 27,
   "id": "c94d0ba4",
   "metadata": {
    "execution": {
     "iopub.execute_input": "2023-03-28T12:47:43.711820Z",
     "iopub.status.busy": "2023-03-28T12:47:43.711412Z",
     "iopub.status.idle": "2023-03-28T12:47:43.819391Z",
     "shell.execute_reply": "2023-03-28T12:47:43.817994Z"
    },
    "papermill": {
     "duration": 0.128751,
     "end_time": "2023-03-28T12:47:43.822608",
     "exception": false,
     "start_time": "2023-03-28T12:47:43.693857",
     "status": "completed"
    },
    "tags": []
   },
   "outputs": [
    {
     "name": "stdout",
     "output_type": "stream",
     "text": [
      "[0 0 0 ... 1 1 0]\n"
     ]
    }
   ],
   "source": [
    "from sklearn.linear_model import SGDClassifier\n",
    "sgdc = SGDClassifier(loss='hinge', penalty='l2',\n",
    "                           alpha=1e-3, random_state=42,\n",
    "                           max_iter=5, tol=None)\n",
    "sgdc.fit(x_train,y_train)\n",
    "sgdc_pred = sgdc.predict(x_test)\n",
    "print(sgdc_pred)"
   ]
  },
  {
   "cell_type": "code",
   "execution_count": 28,
   "id": "bc8422b3",
   "metadata": {
    "execution": {
     "iopub.execute_input": "2023-03-28T12:47:43.859247Z",
     "iopub.status.busy": "2023-03-28T12:47:43.858638Z",
     "iopub.status.idle": "2023-03-28T12:47:43.875018Z",
     "shell.execute_reply": "2023-03-28T12:47:43.873715Z"
    },
    "papermill": {
     "duration": 0.040161,
     "end_time": "2023-03-28T12:47:43.879546",
     "exception": false,
     "start_time": "2023-03-28T12:47:43.839385",
     "status": "completed"
    },
    "tags": []
   },
   "outputs": [
    {
     "name": "stdout",
     "output_type": "stream",
     "text": [
      "SGDClassifier\n",
      "Accuracy score: 0.9798068481123793\n",
      "Precision score: 0.9496402877697842\n",
      "Recall score: 0.967032967032967\n",
      "F1 score: 0.9582577132486387\n"
     ]
    }
   ],
   "source": [
    "print(\"SGDClassifier\")\n",
    "print(\"Accuracy score: {}\". format(accuracy_score(y_test, sgdc_pred)) )\n",
    "print(\"Precision score: {}\". format(precision_score(y_test, sgdc_pred)) )\n",
    "print(\"Recall score: {}\". format(recall_score(y_test, sgdc_pred)))\n",
    "print(\"F1 score: {}\". format(f1_score(y_test, sgdc_pred)))"
   ]
  },
  {
   "cell_type": "code",
   "execution_count": 29,
   "id": "3554621a",
   "metadata": {
    "execution": {
     "iopub.execute_input": "2023-03-28T12:47:43.916962Z",
     "iopub.status.busy": "2023-03-28T12:47:43.916374Z",
     "iopub.status.idle": "2023-03-28T12:47:43.940997Z",
     "shell.execute_reply": "2023-03-28T12:47:43.939689Z"
    },
    "papermill": {
     "duration": 0.046663,
     "end_time": "2023-03-28T12:47:43.943562",
     "exception": false,
     "start_time": "2023-03-28T12:47:43.896899",
     "status": "completed"
    },
    "tags": []
   },
   "outputs": [
    {
     "name": "stdout",
     "output_type": "stream",
     "text": [
      "[0 0 0 ... 1 1 0]\n"
     ]
    }
   ],
   "source": [
    "from sklearn.naive_bayes import BernoulliNB\n",
    "ber = BernoulliNB()\n",
    "ber.fit(x_train,y_train)\n",
    "ber_pred = ber.predict(x_test)\n",
    "print(ber_pred)"
   ]
  },
  {
   "cell_type": "code",
   "execution_count": 30,
   "id": "411fda84",
   "metadata": {
    "execution": {
     "iopub.execute_input": "2023-03-28T12:47:43.967820Z",
     "iopub.status.busy": "2023-03-28T12:47:43.966600Z",
     "iopub.status.idle": "2023-03-28T12:47:43.979755Z",
     "shell.execute_reply": "2023-03-28T12:47:43.977920Z"
    },
    "papermill": {
     "duration": 0.028211,
     "end_time": "2023-03-28T12:47:43.982273",
     "exception": false,
     "start_time": "2023-03-28T12:47:43.954062",
     "status": "completed"
    },
    "tags": []
   },
   "outputs": [
    {
     "name": "stdout",
     "output_type": "stream",
     "text": [
      "BernoulliNB\n",
      "Accuracy score: 0.9859525899912204\n",
      "Precision score: 0.974169741697417\n",
      "Recall score: 0.967032967032967\n",
      "F1 score: 0.9705882352941176\n"
     ]
    }
   ],
   "source": [
    "print(\"BernoulliNB\")\n",
    "print(\"Accuracy score: {}\". format(accuracy_score(y_test, ber_pred)) )\n",
    "print(\"Precision score: {}\". format(precision_score(y_test, ber_pred)) )\n",
    "print(\"Recall score: {}\". format(recall_score(y_test, ber_pred)))\n",
    "print(\"F1 score: {}\". format(f1_score(y_test, ber_pred)))"
   ]
  },
  {
   "cell_type": "code",
   "execution_count": null,
   "id": "dafeddeb",
   "metadata": {
    "papermill": {
     "duration": 0.010491,
     "end_time": "2023-03-28T12:47:44.003363",
     "exception": false,
     "start_time": "2023-03-28T12:47:43.992872",
     "status": "completed"
    },
    "tags": []
   },
   "outputs": [],
   "source": []
  },
  {
   "cell_type": "code",
   "execution_count": null,
   "id": "773b380d",
   "metadata": {
    "papermill": {
     "duration": 0.010633,
     "end_time": "2023-03-28T12:47:44.024581",
     "exception": false,
     "start_time": "2023-03-28T12:47:44.013948",
     "status": "completed"
    },
    "tags": []
   },
   "outputs": [],
   "source": []
  }
 ],
 "metadata": {
  "kernelspec": {
   "display_name": "Python 3",
   "language": "python",
   "name": "python3"
  },
  "language_info": {
   "codemirror_mode": {
    "name": "ipython",
    "version": 3
   },
   "file_extension": ".py",
   "mimetype": "text/x-python",
   "name": "python",
   "nbconvert_exporter": "python",
   "pygments_lexer": "ipython3",
   "version": "3.7.12"
  },
  "papermill": {
   "default_parameters": {},
   "duration": 109.373353,
   "end_time": "2023-03-28T12:47:44.858119",
   "environment_variables": {},
   "exception": null,
   "input_path": "__notebook__.ipynb",
   "output_path": "__notebook__.ipynb",
   "parameters": {},
   "start_time": "2023-03-28T12:45:55.484766",
   "version": "2.4.0"
  }
 },
 "nbformat": 4,
 "nbformat_minor": 5
}
